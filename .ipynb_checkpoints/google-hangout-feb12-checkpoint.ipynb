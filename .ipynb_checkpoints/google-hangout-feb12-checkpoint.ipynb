{
 "cells": [
  {
   "cell_type": "markdown",
   "metadata": {},
   "source": [
    "Thanks everyone for joining the google hangout on Feb 12, 2019 at 5 PM.  \n",
    "\n",
    "This is a short demo to explain the code given in create_submission.py. Before that we'll answer couple of questions that were asked in the session.\n",
    "\n",
    "Q1: Do we have to submit the code?\n",
    "\n",
    "No, we only need the json containing the solution. create_submission.py script can help create the solution json file. While most of you will be trying programmatic approaches, it is perfectly fine to use crowdsourcing or BRAT tool to annotate the data too.\n",
    "\n",
    "Q2: What should the output file contain?\n",
    "\n",
    "It should be a json file containing a list of json elements, where each element corresponds to 1 sentence in the dataset.json input file. For each sentence, you have to provide a rewritten sentence (text), imputed entity (the one you used to replace XXXX), and the type(s) of the entity. Please use the create_submission.py to generate this."
   ]
  },
  {
   "cell_type": "code",
   "execution_count": 12,
   "metadata": {},
   "outputs": [],
   "source": [
    "import json\n",
    "import random\n",
    "import re"
   ]
  },
  {
   "cell_type": "code",
   "execution_count": 13,
   "metadata": {},
   "outputs": [],
   "source": [
    "# this is the input file. it's a good idea to take a look.\n",
    "dataset_filename = \"./dataset.json\"\n",
    "with open(dataset_filename, 'r') as f:\n",
    "    data = json.load(f)"
   ]
  },
  {
   "cell_type": "code",
   "execution_count": 14,
   "metadata": {},
   "outputs": [
    {
     "name": "stdout",
     "output_type": "stream",
     "text": [
      "30916\n",
      "xxxx\n"
     ]
    }
   ],
   "source": [
    "print(len(data))"
   ]
  },
  {
   "cell_type": "code",
   "execution_count": 15,
   "metadata": {},
   "outputs": [],
   "source": [
    "# for analyzing, enough to look at only 10 rows\n",
    "data = data[0:10]"
   ]
  },
  {
   "cell_type": "code",
   "execution_count": 16,
   "metadata": {},
   "outputs": [
    {
     "name": "stdout",
     "output_type": "stream",
     "text": [
      "10\n"
     ]
    }
   ],
   "source": [
    "print(len(data))"
   ]
  },
  {
   "cell_type": "code",
   "execution_count": 17,
   "metadata": {},
   "outputs": [
    {
     "name": "stdout",
     "output_type": "stream",
     "text": [
      "Let me explain to you why I believe this : For years, SunTrust advertised and promoted in big letters their XXXX XXXX debit card.\n",
      "With that card, an account holder could earn XXXX mile for every {$1.00} spent ( for debit and credit card transactions ).\n",
      "Over the past XXXX months, SunTrust must have reviewed their debit card portfolio and what they did as a result of their review is shocking : They closed all account holders who had earned above average number of miles regardless of the types of products they purchased, regardless of the length of their relationship with SunTrust, and regardless of the amount of money in their checking accounts.\n",
      "After banking with Citibank for over 3 years, I discovered this evening that I could not use my debit card despite having a Citibank verified balance of {$900.00}. When I called Citibank, I was informed that the Texas branches had been bought by XXXX XXXX XXXX and as such, they, Citibank, could not allow access to my account.\n",
      "I used to work for the XXXX XXXX XXXX XXXX and they call their customers because a {$1.00} coffee.\n",
      "After that call she informed me that the bank had a policy of not exchanging XXXX with a value of less than {$100.00} U.S.\n",
      "In response, I told this associate that I inquired about returning XXXX when I picked it up, and no one told me about this requirement.\n",
      "He told me that he checked out my exchange issue, and found that PNC had a policy of not exchanging XXXX with a value of less than {$100.00} U.S., and they could not make exceptions to this policy.\n",
      "I told XXXX that I viewed this failure as additional negligence on the part of the bank.\n",
      "They left me hanging for the fourth - XXXX XXXX confections and told me I was on my own, but provided me no details of the transaction.\n"
     ]
    }
   ],
   "source": [
    "for text in data:\n",
    "    print(text)"
   ]
  },
  {
   "cell_type": "code",
   "execution_count": 18,
   "metadata": {},
   "outputs": [],
   "source": [
    "# lets take a look at the types.\n",
    "\n",
    "pde_types_filename = \"./types.json\"\n",
    "pde_types_list = []\n",
    "with open(pde_types_filename, \"r\") as f:\n",
    "    pde_types = json.load(f)\n",
    "pde_types_list = pde_types['pde_types']"
   ]
  },
  {
   "cell_type": "code",
   "execution_count": 19,
   "metadata": {},
   "outputs": [
    {
     "name": "stdout",
     "output_type": "stream",
     "text": [
      "/location\n",
      "/location/address\n",
      "/location/city\n",
      "/location/zipcode\n",
      "/finance/credit_score\n",
      "/contact/name\n",
      "/contact/email_address\n",
      "/contact/phonenumber\n",
      "/id/account_number\n",
      "/id/us_social_security_number\n",
      "/id/credit_card_number\n",
      "/interest/product\n",
      "/bio/age\n",
      "/profession/job_title\n",
      "/other/number\n",
      "/other/datetime\n",
      "/other/datetime/date\n",
      "/other/datetime/month\n",
      "/other/datetime/year\n",
      "/other/organization\n",
      "/other/organization/company\n"
     ]
    }
   ],
   "source": [
    "for pdet in pde_types_list:\n",
    "    print(pdet)"
   ]
  },
  {
   "cell_type": "code",
   "execution_count": 20,
   "metadata": {},
   "outputs": [],
   "source": [
    "# the below is just copied from the create_submission.py\n",
    "\n",
    "\n",
    "# this is not a complete list of patterns that you may find in original data (see ./additional_data)\n",
    "# but we have chosen only these in the dataset for the hackathon\n",
    "patterns = [r' XXXX XXXX XXXX XXXX', r'XXXX XXXX XXXX', r'XXXX XXXX', r'XXXX', r'XX/XX/XXXX', r'XX/XX/']\n",
    "regex_patterns = '|'.join(patterns)\n",
    "\n",
    "json_output = []\n",
    "i = 1\n",
    "for text in data:\n",
    "    json_element = {}\n",
    "\n",
    "    # we're using a simple regex pattern to find the redacted mentions\n",
    "    mentions = re.findall(regex_patterns, text)\n",
    "    if (len(mentions) != 1):\n",
    "        print(\"Error! Only one entity mention per sentence should be present.\")\n",
    "        print(mentions)\n",
    "        continue\n",
    "    mention = mentions[0]\n",
    "\n",
    "    ######### ENTITIES FOR DEMO - REPLACE THIS ##########\n",
    "    entity = \"entity_\" + str(i)\n",
    "    ######### ENTITIES FOR DEMO - REPLACE THIS ##########\n",
    "\n",
    "    json_element['input_text'] = text\n",
    "    json_element['text'] = text.replace(mention, entity)\n",
    "    json_element[\"entity\"] = entity\n",
    "\n",
    "    ######### TYPES FOR DEMO - REPLACE THIS ##########\n",
    "    # this are just some fake types that we are creating, you should remove all this\n",
    "    rand_int = random.randint(0, len(pde_types_list)) - 1\n",
    "    types = pde_types_list[rand_int]\n",
    "    # typically parents of the types also apply to the entity, hence adding here\n",
    "    if rand_int > 5:\n",
    "       for pdet in pde_types:\n",
    "          if pdet in types:\n",
    "             types += \" \" + pdet\n",
    "    # sometimes types from different branches in the hierarchy can apply to an entity\n",
    "    if rand_int > 15:\n",
    "        rand_int = random.randint(0, len(pde_types_list)) - 1\n",
    "        another_type = pde_types_list[rand_int]\n",
    "        if another_type not in types:\n",
    "            types += \" \" + another_type\n",
    "    ######### TYPES FOR DEMO - REPLACE THIS ##########\n",
    "\n",
    "    json_element[\"types\"] = types\n",
    "    json_output.append(json_element)\n",
    "i += 1"
   ]
  },
  {
   "cell_type": "code",
   "execution_count": 21,
   "metadata": {},
   "outputs": [
    {
     "name": "stdout",
     "output_type": "stream",
     "text": [
      "Let me explain to you why I believe this : For years, SunTrust advertised and promoted in big letters their XXXX XXXX debit card.\n",
      "Let me explain to you why I believe this : For years, SunTrust advertised and promoted in big letters their entity_1 debit card.\n",
      "entity_1\n",
      "/other/datetime\n",
      "\n",
      "\n",
      "With that card, an account holder could earn XXXX mile for every {$1.00} spent ( for debit and credit card transactions ).\n",
      "With that card, an account holder could earn entity_1 mile for every {$1.00} spent ( for debit and credit card transactions ).\n",
      "entity_1\n",
      "/interest/product\n",
      "\n",
      "\n",
      "Over the past XXXX months, SunTrust must have reviewed their debit card portfolio and what they did as a result of their review is shocking : They closed all account holders who had earned above average number of miles regardless of the types of products they purchased, regardless of the length of their relationship with SunTrust, and regardless of the amount of money in their checking accounts.\n",
      "Over the past entity_1 months, SunTrust must have reviewed their debit card portfolio and what they did as a result of their review is shocking : They closed all account holders who had earned above average number of miles regardless of the types of products they purchased, regardless of the length of their relationship with SunTrust, and regardless of the amount of money in their checking accounts.\n",
      "entity_1\n",
      "/location/city\n",
      "\n",
      "\n",
      "After banking with Citibank for over 3 years, I discovered this evening that I could not use my debit card despite having a Citibank verified balance of {$900.00}. When I called Citibank, I was informed that the Texas branches had been bought by XXXX XXXX XXXX and as such, they, Citibank, could not allow access to my account.\n",
      "After banking with Citibank for over 3 years, I discovered this evening that I could not use my debit card despite having a Citibank verified balance of {$900.00}. When I called Citibank, I was informed that the Texas branches had been bought by entity_1 and as such, they, Citibank, could not allow access to my account.\n",
      "entity_1\n",
      "/id/credit_card_number\n",
      "\n",
      "\n",
      "I used to work for the XXXX XXXX XXXX XXXX and they call their customers because a {$1.00} coffee.\n",
      "I used to work for theentity_1 and they call their customers because a {$1.00} coffee.\n",
      "entity_1\n",
      "/finance/credit_score\n",
      "\n",
      "\n",
      "After that call she informed me that the bank had a policy of not exchanging XXXX with a value of less than {$100.00} U.S.\n",
      "After that call she informed me that the bank had a policy of not exchanging entity_1 with a value of less than {$100.00} U.S.\n",
      "entity_1\n",
      "/contact/name\n",
      "\n",
      "\n",
      "In response, I told this associate that I inquired about returning XXXX when I picked it up, and no one told me about this requirement.\n",
      "In response, I told this associate that I inquired about returning entity_1 when I picked it up, and no one told me about this requirement.\n",
      "entity_1\n",
      "/location/city\n",
      "\n",
      "\n",
      "He told me that he checked out my exchange issue, and found that PNC had a policy of not exchanging XXXX with a value of less than {$100.00} U.S., and they could not make exceptions to this policy.\n",
      "He told me that he checked out my exchange issue, and found that PNC had a policy of not exchanging entity_1 with a value of less than {$100.00} U.S., and they could not make exceptions to this policy.\n",
      "entity_1\n",
      "/contact/phonenumber\n",
      "\n",
      "\n",
      "I told XXXX that I viewed this failure as additional negligence on the part of the bank.\n",
      "I told entity_1 that I viewed this failure as additional negligence on the part of the bank.\n",
      "entity_1\n",
      "/other/number\n",
      "\n",
      "\n",
      "They left me hanging for the fourth - XXXX XXXX confections and told me I was on my own, but provided me no details of the transaction.\n",
      "They left me hanging for the fourth - entity_1 confections and told me I was on my own, but provided me no details of the transaction.\n",
      "entity_1\n",
      "/contact/phonenumber\n",
      "\n",
      "\n"
     ]
    }
   ],
   "source": [
    "for json_element in json_output:\n",
    "    print(json_element['input_text'])\n",
    "    print(json_element['text'])\n",
    "    print(json_element['entity'])\n",
    "    print(json_element['types'])\n",
    "    print(\"\\n\")"
   ]
  },
  {
   "cell_type": "code",
   "execution_count": 22,
   "metadata": {},
   "outputs": [
    {
     "name": "stdout",
     "output_type": "stream",
     "text": [
      "With that card, an account holder could earn XXXX mile for every {$1.00} spent ( for debit and credit card transactions ).\n",
      "With that card, an account holder could earn 9 mile for every {$1.00} spent ( for debit and credit card transactions ).\n",
      "I told XXXX that I viewed this failure as additional negligence on the part of the bank.\n",
      "I told Balaji that I viewed this failure as additional negligence on the part of the bank.\n"
     ]
    }
   ],
   "source": [
    "# now let's see a quick and dirty way to annotate couple of sentences.\n",
    "\n",
    "# you are expected to come with more rules like this, or use data programming (snorkel)\n",
    "# or use Machine Learning as per your convenience\n",
    "\n",
    "for text in data:\n",
    "    mentions = re.findall(\"XXXX mile|told XXXX\", text)\n",
    "    if(len(mentions) > 0):\n",
    "        print(text)\n",
    "        for mention in mentions:\n",
    "            text = text.replace(\"XXXX mile\", \"9 mile\")\n",
    "            text = text.replace(\"told XXXX\", \"told Balaji\")\n",
    "            print(text)"
   ]
  },
  {
   "cell_type": "markdown",
   "metadata": {},
   "source": [
    "You can refer to resources here: https://sites.google.com/iimahd.ernet.in/hackathon-icadabai2019/resources for more ideas on annotating the data."
   ]
  },
  {
   "cell_type": "code",
   "execution_count": 36,
   "metadata": {},
   "outputs": [
    {
     "name": "stdout",
     "output_type": "stream",
     "text": [
      "[('Andrew', 'PERSON'), ('Chinese', 'GPE'), ('American', 'GPE'), ('Baidu', 'ORGANIZATION'), (\"company's Artificial Intelligence Group\", 'ORGANIZATION'), ('Stanford University', 'ORGANIZATION'), ('Coursera', 'ORGANIZATION'), ('Andrew', 'PERSON'), ('Hong Kong', 'GPE')]\n"
     ]
    }
   ],
   "source": [
    "import nltk\n",
    "\n",
    "doc = '''Andrew Yan-Tak Ng is a Chinese American computer scientist.\n",
    "He is the former chief scientist at Baidu, where he led the company's\n",
    "Artificial Intelligence Group. He is an adjunct professor (formerly \n",
    "associate professor) at Stanford University. Ng is also the co-founder\n",
    "and chairman at Coursera, an online education platform. Andrew was born\n",
    "in the UK in 1976. His parents were both from Hong Kong.'''\n",
    "# tokenize doc\n",
    "tokenized_doc = nltk.word_tokenize(doc)\n",
    " \n",
    "# tag sentences and use nltk's Named Entity Chunker\n",
    "tagged_sentences = nltk.pos_tag(tokenized_doc)\n",
    "ne_chunked_sents = nltk.ne_chunk(tagged_sentences)\n",
    " \n",
    "# extract all named entities\n",
    "named_entities = []\n",
    "for tagged_tree in ne_chunked_sents:\n",
    "    if hasattr(tagged_tree, 'label'):\n",
    "        entity_name = ' '.join(c[0] for c in tagged_tree.leaves()) #\n",
    "        entity_type = tagged_tree.label() # get NE category\n",
    "        named_entities.append((entity_name, entity_type))\n",
    "print(named_entities)"
   ]
  },
  {
   "cell_type": "code",
   "execution_count": 35,
   "metadata": {},
   "outputs": [
    {
     "name": "stdout",
     "output_type": "stream",
     "text": [
      "[nltk_data] Downloading package words to\n",
      "[nltk_data]     C:\\Users\\RPANDAY\\AppData\\Roaming\\nltk_data...\n",
      "[nltk_data]   Unzipping corpora\\words.zip.\n"
     ]
    },
    {
     "data": {
      "text/plain": [
       "True"
      ]
     },
     "execution_count": 35,
     "metadata": {},
     "output_type": "execute_result"
    }
   ],
   "source": [
    "#nltk.download('punkt')\n",
    "#nltk.download('averaged_perceptron_tagger')\n",
    "#nltk.download('maxent_ne_chunker')\n",
    "#nltk.download('words')"
   ]
  },
  {
   "cell_type": "code",
   "execution_count": 38,
   "metadata": {},
   "outputs": [
    {
     "name": "stdout",
     "output_type": "stream",
     "text": [
      "Let me explain to you why I believe this : For years, SunTrust advertised and promoted in big letters their XXXX XXXX debit card.\n",
      "[('SunTrust', 'ORGANIZATION'), ('XXXX', 'ORGANIZATION'), ('XXXX', 'ORGANIZATION')]\n",
      "With that card, an account holder could earn XXXX mile for every {$1.00} spent ( for debit and credit card transactions ).\n",
      "[('XXXX', 'ORGANIZATION')]\n",
      "Over the past XXXX months, SunTrust must have reviewed their debit card portfolio and what they did as a result of their review is shocking : They closed all account holders who had earned above average number of miles regardless of the types of products they purchased, regardless of the length of their relationship with SunTrust, and regardless of the amount of money in their checking accounts.\n",
      "[('XXXX', 'ORGANIZATION'), ('SunTrust', 'ORGANIZATION'), ('SunTrust', 'ORGANIZATION')]\n",
      "After banking with Citibank for over 3 years, I discovered this evening that I could not use my debit card despite having a Citibank verified balance of {$900.00}. When I called Citibank, I was informed that the Texas branches had been bought by XXXX XXXX XXXX and as such, they, Citibank, could not allow access to my account.\n",
      "[('Citibank', 'ORGANIZATION'), ('Citibank', 'ORGANIZATION'), ('Citibank', 'ORGANIZATION'), ('Texas', 'GPE'), ('XXXX', 'ORGANIZATION'), ('Citibank', 'ORGANIZATION')]\n",
      "I used to work for the XXXX XXXX XXXX XXXX and they call their customers because a {$1.00} coffee.\n",
      "[('XXXX', 'ORGANIZATION')]\n",
      "After that call she informed me that the bank had a policy of not exchanging XXXX with a value of less than {$100.00} U.S.\n",
      "[('XXXX', 'ORGANIZATION')]\n",
      "In response, I told this associate that I inquired about returning XXXX when I picked it up, and no one told me about this requirement.\n",
      "[('XXXX', 'ORGANIZATION')]\n",
      "He told me that he checked out my exchange issue, and found that PNC had a policy of not exchanging XXXX with a value of less than {$100.00} U.S., and they could not make exceptions to this policy.\n",
      "[('PNC', 'ORGANIZATION'), ('XXXX', 'ORGANIZATION'), ('U.S.', 'GPE')]\n",
      "I told XXXX that I viewed this failure as additional negligence on the part of the bank.\n",
      "[('XXXX', 'ORGANIZATION')]\n",
      "They left me hanging for the fourth - XXXX XXXX confections and told me I was on my own, but provided me no details of the transaction.\n",
      "[('XXXX', 'ORGANIZATION'), ('XXXX', 'ORGANIZATION')]\n"
     ]
    }
   ],
   "source": [
    "import nltk\n",
    "\n",
    "'''using sentences from small dataset to observe automatic NER by NLTK'''\n",
    "\n",
    "for doc in data:\n",
    "    # tokenize doc\n",
    "    tokenized_doc = nltk.word_tokenize(doc)\n",
    "\n",
    "    # tag sentences and use nltk's Named Entity Chunker\n",
    "    tagged_sentences = nltk.pos_tag(tokenized_doc)\n",
    "    ne_chunked_sents = nltk.ne_chunk(tagged_sentences)\n",
    "\n",
    "    # extract all named entities\n",
    "    named_entities = []\n",
    "    for tagged_tree in ne_chunked_sents:\n",
    "        if hasattr(tagged_tree, 'label'):\n",
    "            entity_name = ' '.join(c[0] for c in tagged_tree.leaves()) #\n",
    "            entity_type = tagged_tree.label() # get NE category\n",
    "            named_entities.append((entity_name, entity_type))\n",
    "    print(doc)\n",
    "    print(named_entities)"
   ]
  },
  {
   "cell_type": "code",
   "execution_count": 41,
   "metadata": {},
   "outputs": [],
   "source": [
    "# this is the input file. it's a good idea to take a look.\n",
    "dataset_filename2 = \"./additional_data/documents.json\"\n",
    "with open(dataset_filename2, 'r') as f:\n",
    "    data2 = json.load(f)\n",
    "    \n",
    "data2 = data2[0:10]"
   ]
  },
  {
   "cell_type": "code",
   "execution_count": 42,
   "metadata": {},
   "outputs": [
    {
     "name": "stdout",
     "output_type": "stream",
     "text": [
      "I 'm no longer an account holder of SunTrust. I used to be until I realized how unethical of a company that is. Let me explain to you why I believe this : For years, SunTrust advertised and promoted in big letters their XXXX XXXX debit card. With that card, an account holder could earn XXXX mile for every {$1.00} spent ( for debit and credit card transactions ). SunTrust even advertised that they would not put a cap on a cardholder 's ability to earn miles. \n",
      "\n",
      "Over the past XXXX months, SunTrust must have reviewed their debit card portfolio and what they did as a result of their review is shocking : They closed all account holders who had earned above average number of miles regardless of the types of products they purchased, regardless of the length of their relationship with SunTrust, and regardless of the amount of money in their checking accounts. I know of at least XXXX cases where SunTrust contacted XXXX XXXX to have the miles in the cardholder 's account reversed!!! \n",
      "\n",
      "SunTrust is clearly engaging in what is commonly referred to as \" bait and switch '', a marketing strategy of getting customers to sign up for a product ( that, by the way, carries a yearly fee of {$75.00} ) and then, once a certain number of miles are earned, the account is closed. This is unacceptable and a regulatory violation. \n",
      "\n",
      "If SunTrust does not immediately stop closing accounts and reversing miles already earned, I 'll notify a well-known XXXX XXXX lawfirm to pursue a class action lawsuit against SunTrust and its XXXX and XXXX individually. \n",
      "\n",
      "[('SunTrust', 'ORGANIZATION'), ('SunTrust', 'ORGANIZATION'), ('XXXX', 'ORGANIZATION'), ('XXXX', 'ORGANIZATION'), ('XXXX', 'ORGANIZATION'), ('XXXX', 'ORGANIZATION'), ('SunTrust', 'ORGANIZATION'), ('SunTrust', 'ORGANIZATION'), ('XXXX', 'ORGANIZATION'), ('SunTrust', 'ORGANIZATION'), ('XXXX', 'ORGANIZATION'), ('SunTrust', 'ORGANIZATION'), ('SunTrust', 'ORGANIZATION'), ('XXXX', 'ORGANIZATION'), ('SunTrust', 'ORGANIZATION'), ('XXXX', 'ORGANIZATION'), ('XXXX', 'ORGANIZATION')]\n",
      "After banking with Citibank for over 3 years, I discovered this evening that I could not use my debit card despite having a Citibank verified balance of {$900.00}. When I called Citibank, I was informed that the Texas branches had been bought by XXXX XXXX XXXX and as such, they, Citibank, could not allow access to my account. I was told I was notified of this via mail, though no certified letter or any correspondence showing I had received notification could be provided. Upon speaking to a supervisor, no remedy was available other than talk to the new bank tomorrow. I do n't feel I am overstating to say that this \" customer service '' is tantamount to theft. Citibank allowed me to deposit my entire paycheck into my account 3 days ago on Friday, and on Monday denied me any access to my money! Like many Americans, I pay for most everything by debit card and rarely carry cash. How can a bank hold a persons money hostage, with no explanation other than I 'm sorry but we sent out letters? Ridiculous! \n",
      "\n",
      "[('Citibank', 'ORGANIZATION'), ('Citibank', 'ORGANIZATION'), ('Citibank', 'ORGANIZATION'), ('Texas', 'GPE'), ('XXXX', 'ORGANIZATION'), ('Citibank', 'ORGANIZATION'), ('Citibank', 'PERSON')]\n",
      "On XXXX XXXX I went to the Citizens Bank on XXXX XXXX, in XXXX, MA and gave my son 's bank information in XXXX and wired {$200000.00} to XXXX do XXXX, where my son has a checking account. ( My son lives in XXXX ) On XXXX XXXX, I 've realized there was a mistype in the XXXX he gave to me. I called the Citizens Bank Wire Department and was able to fix the number and they told me the money would be available in XXXX on XXXX XXXX. \n",
      "Until XXXX XXXX XXXX, the money has not arrived in my son 's checking account in XXXX, but left my account on XXXX XXXX. \n",
      "I 've called Citizens Wire Department many times and they told me the money was transferred to XXXX XXXX XXXX and that XXXX XXXX XXXX would be responsible for that wire transfer. \n",
      "I 've asked if they could trace the money since it 's been more than 2 weeks, they ca n't. XXXX XXXX XXXX is the bank responsible for that and if XXXX XXXX XXXX has not called them to say something went wrong, they do n't communicate with XXXX XXXX XXXX, they assume everything went well. Although I 've been calling to let them know it has not. \n",
      "They also told me I could start a process to get my money back in my checking account with Citizens but I would lose the fees I 've paid for the wire transfer to be made. \n",
      "I just want to find out what happened to the money. Even if there was something wrong I should have gotten a phone call or something.. This is not the way a Bank should treat a client/customer who trusted the Bank. This is disrespectful! \n",
      "Another thing, they should clear state to the customers they are NOT allowed to do International Transactions and that their money is going to be transferred to another Bank for the transaction to be complete. \n",
      "I 've got all the dates and time I 've called the Wire Department at XXXX XXXX - XXXX ( XXXX XXXX XXXX XXXX minutes on the phoneXXXX XXXX - XXXX USA - XXXX minutes on the phoneMarch XXXX - Director of Bank - XXXX minutes on the phoneMarch XXXX - XXXX - XXXX minutes on the phoneXXXX XXXX - XXXX ( that day finally the lady told me they 've started a trace and someone would give me a call ) XXXX XXXX - One of their employees finally called ( XXXX XXXX ) but until that day they did n't know what happened to my money. \n",
      "I just want Citizens Bank to be responsible for the deal I 've lost in my country - that money was supposed to buy a condo and, of course, I lost the deal! \n",
      "I want Citizens Bank to trace all my phone calls ( They 've been recorded ) and try to figure out WHY their employees did n't take an action on XXXX/XXXX/15 when I made the XXXX phone call to complain about a delay ... They should know better. \n",
      "I used to work for the XXXX XXXX XXXX XXXX and they call their customers because a {$1.00} coffee. What about Citizens? what do they do for their costumers? \n",
      "I would appreciate someone to please investigate this case and force Citizens Bank to improve the way they treat their costumers and solve situation. \n",
      "\n",
      "Sincerely, XXXX \n",
      "\n",
      "[('XXXX', 'ORGANIZATION'), ('Citizens Bank', 'ORGANIZATION'), ('XXXX', 'ORGANIZATION'), ('XXXX', 'GPE'), ('MA', 'ORGANIZATION'), ('XXXX', 'ORGANIZATION'), ('XXXX', 'ORGANIZATION'), ('XXXX', 'GPE'), ('XXXX', 'ORGANIZATION'), ('Citizens Bank Wire Department', 'ORGANIZATION'), ('XXXX', 'GPE'), ('XXXX', 'ORGANIZATION'), ('XXXX', 'ORGANIZATION'), ('XXXX', 'GPE'), ('XXXX', 'ORGANIZATION'), ('Citizens Wire', 'ORGANIZATION'), ('XXXX', 'ORGANIZATION'), ('XXXX', 'ORGANIZATION'), ('XXXX', 'ORGANIZATION'), ('XXXX', 'ORGANIZATION'), ('XXXX', 'ORGANIZATION'), ('Citizens', 'PERSON'), ('Bank', 'ORGANIZATION'), ('Bank', 'ORGANIZATION'), ('NOT', 'ORGANIZATION'), ('International Transactions', 'ORGANIZATION'), ('Bank', 'ORGANIZATION'), ('Wire Department', 'ORGANIZATION'), ('XXXX', 'ORGANIZATION'), ('XXXX', 'ORGANIZATION'), ('XXXX', 'ORGANIZATION'), ('XXXX', 'ORGANIZATION'), ('phoneXXXX', 'ORGANIZATION'), ('XXXX', 'ORGANIZATION'), ('XXXX', 'ORGANIZATION'), ('USA', 'ORGANIZATION'), ('XXXX', 'ORGANIZATION'), ('phoneMarch', 'ORGANIZATION'), ('XXXX', 'ORGANIZATION'), ('Bank', 'ORGANIZATION'), ('XXXX', 'ORGANIZATION'), ('phoneMarch', 'ORGANIZATION'), ('XXXX', 'ORGANIZATION'), ('XXXX', 'ORGANIZATION'), ('XXXX', 'ORGANIZATION'), ('phoneXXXX', 'ORGANIZATION'), ('XXXX', 'ORGANIZATION'), ('XXXX', 'ORGANIZATION'), ('XXXX', 'ORGANIZATION'), ('XXXX', 'ORGANIZATION'), ('XXXX', 'ORGANIZATION'), ('Citizens Bank', 'ORGANIZATION'), ('Citizens Bank', 'ORGANIZATION'), ('XXXX', 'ORGANIZATION'), ('XXXX', 'ORGANIZATION'), ('Citizens', 'GPE'), ('Citizens Bank', 'ORGANIZATION'), ('XXXX', 'ORGANIZATION')]\n",
      "The following summarizes my issue with PNC Banks policy, and their refusal to properly rectify the consequence of their mistake. \n",
      "\n",
      "On XXXX XXXX, 2014 I placed a currency exchange order for XXXX XXXX 's at the PNC bank located at XXXX XXXX XXXX in XXXX XXXX, Mi. This transaction is XXXX # XXXX. Subsequently, I picked up the money and engaged in a conversation with a bank associate about returning unused monies. At that time I was told that I could return paper money, but that they would not accept coin. \n",
      "\n",
      "On XXXX XXXX I went to the bank to return XXXX paper XXXX for approx. $ 35-40 U.S. At that time the bank associate made a telephone call to determine the exchange rate on the currency. After that call she informed me that the bank had a policy of not exchanging XXXX with a value of less than {$100.00} U.S. In response, I told this associate that I inquired about returning XXXX when I picked it up, and no one told me about this requirement. I certainly could have brought back the required amount if I had known about it, and I told her that the bank was negligent in not informing me about this. I felt that they made an error, and want me to suffer the consequences of their oversight. The bank associate told me that she would discuss the matter with bank management, and someone would get back with me. \n",
      "\n",
      "On XXXX XXXX I received a call from someone at the bank who identified himself as \" XXXX ''. He told me that he checked out my exchange issue, and found that PNC had a policy of not exchanging XXXX with a value of less than {$100.00} U.S., and they could not make exceptions to this policy. I asked him why the bank did not inform me about this when I inquired. He apologized, and it appeared to me that local bank personnel did n't know about this policy. When I asked XXXX about the reason for this requirement he stated, \" efficiency 's of scale ''. I pointed out to XXXX that the bank had a XXXX opportunity to make this requirement known to me in written communications, but missed that chance also. As a result of my order, I was given a written record of the transaction entitled \" PNC Foreign Exchange Services ''. This document should have defined the return exchange requirement, but failed to do so. I told XXXX that I viewed this failure as additional negligence on the part of the bank. \n",
      "\n",
      "XXXX was firm in his position that the bank would not exchange the XXXX for me, and he suggested that I try to get it exchanged at the airport. I told XXXX in response that I have been a member of PNC and it 's acquired banks for almost 50 years, and I would like to believe I could count on my bank for this service. \n",
      "\n",
      "[('PNC Banks', 'ORGANIZATION'), ('XXXX', 'ORGANIZATION'), ('XXXX', 'ORGANIZATION'), ('PNC', 'ORGANIZATION'), ('XXXX', 'ORGANIZATION'), ('XXXX', 'ORGANIZATION'), ('Mi', 'GPE'), ('XXXX', 'ORGANIZATION'), ('XXXX', 'ORGANIZATION'), ('XXXX', 'ORGANIZATION'), ('XXXX', 'ORGANIZATION'), ('XXXX', 'ORGANIZATION'), ('U.S.', 'GPE'), ('XXXX', 'ORGANIZATION'), ('XXXX', 'ORGANIZATION'), ('XXXX', 'ORGANIZATION'), ('PNC', 'ORGANIZATION'), ('XXXX', 'ORGANIZATION'), ('U.S.', 'GPE'), ('XXXX', 'ORGANIZATION'), ('XXXX', 'ORGANIZATION'), ('PNC Foreign Exchange Services', 'ORGANIZATION'), ('XXXX', 'ORGANIZATION'), ('XXXX', 'ORGANIZATION'), ('XXXX', 'ORGANIZATION'), ('XXXX', 'ORGANIZATION'), ('PNC', 'ORGANIZATION')]\n"
     ]
    },
    {
     "name": "stdout",
     "output_type": "stream",
     "text": [
      "This is a concern with companies in general. The retention of personal information i.e. email, phone number, address, and social security number even after business with a company is no longer prevalent. Specifically, Capitol One 360 has said information and according to their policy they can not delete the it. In light of recent hacks to many consumer 's financial information I am concerned about having that on file from a company which I no longer conduct any business. They may notify me after the fact of any breach, however, what is a person to do if their information especially Social Security number is compromised. It would be proactive to not have that information available in the first place, especially when all accounts are closed. Lastly why do they need to keep this information? With several companies, XXXX and XXXX in particular, data mining people 's information only to be sold to advertisers and whomever else for profit, I can only speculate as to what these financial institutions are doing with this information. I write asking for a proposal for legislative change that gives the consumer power to redact and delete their details from companies when they choose to no longer conduct any business with them. In the mean time are there any other means a consumer can use to achieve this? It appears we 're all at the mercy of the company 's policy. \n",
      "\n",
      "[('Social', 'ORGANIZATION'), ('XXXX', 'ORGANIZATION'), ('XXXX', 'ORGANIZATION')]\n",
      "There are two components to the bank fraud that I discovered this morning. \n",
      "1 ) Wells Fargo changed my corporate bank account number without advising me. \n",
      "2 ) A customer attempted to send me an electronic payment last Friday via ACH. I never received the payment. After contacting Wells Fargo, they explained that my bank account changed. I then attempted to determine when this changed by looking at the previous bank statements. When I pulled my XXXX XX/XX/2015 bank statement from their online banking system the statement reflected the NEW account number. I then pulled a copy of my XXXX XX/XX/2015 statement from my local drive which I had downloaded back in XXXX. The XXXX statements ARE DIFFERENT. Meaning, that the Wells Fargo Online Banking system is displaying incorrect banking information to their consumers ( i.e. fraud ). It is not clear because no one has investigated this whether this is the result of fraud, weak internal controls in their IT process or some other reason. No consumer should assume that the information they are receiving from Wells Fargo is credible or accurate. \n",
      "\n",
      "[('Wells Fargo', 'PERSON'), ('ACH', 'ORGANIZATION'), ('Wells Fargo', 'PERSON'), ('XXXX', 'ORGANIZATION'), ('NEW', 'ORGANIZATION'), ('XXXX', 'ORGANIZATION'), ('XXXX', 'GPE'), ('XXXX', 'ORGANIZATION'), ('DIFFERENT', 'ORGANIZATION'), ('Wells Fargo Online', 'ORGANIZATION'), ('Wells Fargo', 'PERSON')]\n",
      "In both my business and checking account, the bank processes are to re-arrange items in your account which result in you account going negative so that can charge excessive fees. In reference to the business account I was charge over XXXX in fees for a XXXX transaction that should have cleared because the funds were there. After speaking with several bank personel, not one was able to understand why the account was over drawn. They did reverse XXXX of the fees but stated I had to pay the rest. I am seeing this same kind of fishyness with the personal account. \n",
      "\n",
      "[('XXXX', 'ORGANIZATION'), ('XXXX', 'ORGANIZATION'), ('XXXX', 'ORGANIZATION')]\n",
      "I 've had my bank accounts with PNC Bank for several years now with basically no complaints. In XX/XX/XXXX, I had XXXX fraudulent charges on my debit card, which PNC refunded ( stopped payment ) on XXXX of the XXXX. They left me hanging for the fourth - XXXX XXXX confections and told me I was on my own, but provided me no details of the transaction. As a result of the fraudulent charges, PNC issued me a new debit card, which is where this complaint starts. On XX/XX/XXXX, XXXX charged my NEW debit card {$95.00} and I have not given this card # out to any companies or used it online. So, I called PNC and asked them to file a dispute. Again, they told me they offered no support, I was on my own. I asked them for Corporate Security and to start a fraud investigation. Only then did the representative take a 'questionnaire ' from me about the incident. During this 'questionairre ' she asked me to falsify my first answer \" Did you give out this card # to the company in question? '' She informed me that answering yes would expedite my process, answering no would cause me problems, But I did n't give out the card #, what am I supposed to say? \" If you say yes, your claim will be processed, if you say no, you will have difficulties with this claim. '' I told her I was n't going to lie and left my answer as \" no '', I had not given out the card #. Feeling uncomfortable, I asked to escalate this complaint. She complied by giving me a # I could leave a VM on. After that, I asked her how a random company could get my account information. The representative informed me that upon issuance of the replacement debit card in XX/XX/XXXX, PNC had done me the 'service ' of giving out the new card information to any merchants who had claimed a recurring charge on the old card. WHAT?!? I asked her to repeat what she had just told me and she did from her script. Again, WHAT?!? You replace a card for fraud, and give out the new card information without my knowledge or approval? I want my money back. I want damages. I want credit monitoring due to the breach by PNC.\n",
      "[('PNC Bank', 'ORGANIZATION'), ('PNC', 'ORGANIZATION'), ('XXXX', 'ORGANIZATION'), ('XXXX', 'ORGANIZATION'), ('XXXX', 'ORGANIZATION'), ('XXXX', 'ORGANIZATION'), ('PNC', 'ORGANIZATION'), ('XXXX', 'ORGANIZATION'), ('PNC', 'ORGANIZATION'), ('Again', 'PERSON'), ('Corporate', 'ORGANIZATION'), ('PNC', 'ORGANIZATION'), ('Again', 'PERSON'), ('WHAT', 'ORGANIZATION'), ('PNC', 'ORGANIZATION')]\n",
      "I have a checking account with JP Morgan Chase ending in XXXX. \n",
      "I use this account for my Social Security XXXX direct deposit. \n",
      "Financially things are not good for me ; I just received a Chapter XXXX Discharge of debt and I live check to check. \n",
      "Every now and then I get hit with an overdraft because certain transactions charged to my account as charge not a debit are deducted from my account and then a few days later the charge completely disappears from online statement and is credited to my account as usable funds and then pops up in the ledger again for the final charge against my account. \n",
      "My branch tells me the problem is created on the merchant 's side The most recent occurrence I even called the bank to inquire if I had any outstanding charges against my account that were not itemized and any amounts that were not included in my balance. \n",
      "I was told by customer service that according to their ledger I had enough money in my account to cash the check to transfer my money to another account for my mortgage payment. \n",
      "Chase has always been good to me and reimburses the OD FEES, but they limit their customers to XXXX in a one year period, My complaint is not against the bank nor the merchant, it is the procedure that I feel needs a look at. \n",
      "My other bank, a credit union, does not alter the usable number, all transactions are withheld from my account and the ledger shows a greater total but a lesser usable amount especially if the merchant enters the transaction as charge and not a debit ; my total amount and usable amount even up when all transactions have actually been paid ; this is the fair/upfront way of managing the accounts of the customers. \n",
      "That is my complaint/inquiry. \n",
      "\n",
      "[('JP Morgan', 'ORGANIZATION'), ('XXXX', 'GPE'), ('Social', 'ORGANIZATION'), ('XXXX Discharge', 'ORGANIZATION'), ('Chase', 'PERSON'), ('OD', 'ORGANIZATION')]\n",
      "I tried to use my chase credit card to purchase XXXX tkts in XXXX from XXXX tkts and my cc was denied. In fact most chase cc holders were denied due to a glitch in chase bank system. Chase is aware of it and are not willing to help their customers for their mistake. I will not bank at chase due to their lack of responsibility to fix their mistake. I do n't think a dishonest bank should be allowed to get away with this. \n",
      "\n",
      "[('XXXX', 'ORGANIZATION'), ('XXXX', 'ORGANIZATION'), ('Chase', 'PERSON')]\n"
     ]
    }
   ],
   "source": [
    "import nltk\n",
    "\n",
    "'''using sentences from complete stores to observe automatic NER by NLTK'''\n",
    "\n",
    "for doc in data2:\n",
    "    # tokenize doc\n",
    "    tokenized_doc = nltk.word_tokenize(doc)\n",
    "\n",
    "    # tag sentences and use nltk's Named Entity Chunker\n",
    "    tagged_sentences = nltk.pos_tag(tokenized_doc)\n",
    "    ne_chunked_sents = nltk.ne_chunk(tagged_sentences)\n",
    "\n",
    "    # extract all named entities\n",
    "    named_entities = []\n",
    "    for tagged_tree in ne_chunked_sents:\n",
    "        if hasattr(tagged_tree, 'label'):\n",
    "            entity_name = ' '.join(c[0] for c in tagged_tree.leaves()) #\n",
    "            entity_type = tagged_tree.label() # get NE category\n",
    "            named_entities.append((entity_name, entity_type))\n",
    "    print(doc)\n",
    "    print(named_entities)"
   ]
  },
  {
   "cell_type": "code",
   "execution_count": null,
   "metadata": {},
   "outputs": [],
   "source": []
  }
 ],
 "metadata": {
  "kernelspec": {
   "display_name": "Python 3",
   "language": "python",
   "name": "python3"
  },
  "language_info": {
   "codemirror_mode": {
    "name": "ipython",
    "version": 3
   },
   "file_extension": ".py",
   "mimetype": "text/x-python",
   "name": "python",
   "nbconvert_exporter": "python",
   "pygments_lexer": "ipython3",
   "version": "3.7.1"
  }
 },
 "nbformat": 4,
 "nbformat_minor": 2
}
